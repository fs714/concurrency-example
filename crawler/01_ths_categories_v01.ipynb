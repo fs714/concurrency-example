{
 "cells": [
  {
   "cell_type": "code",
   "execution_count": 1,
   "metadata": {},
   "outputs": [],
   "source": [
    "import requests\n",
    "from bs4 import BeautifulSoup\n",
    "from collections import defaultdict"
   ]
  },
  {
   "cell_type": "code",
   "execution_count": 2,
   "metadata": {},
   "outputs": [],
   "source": [
    "'''\n",
    "0: ths_category\n",
    "1: zjh_category\n",
    "2: concept_category\n",
    "3: region_category\n",
    "'''\n",
    "\n",
    "base_url = 'http://basic.10jqka.com.cn'\n",
    "base_res = requests.get(base_url)\n",
    "base_soup = BeautifulSoup(base_res.text, 'lxml')"
   ]
  },
  {
   "cell_type": "code",
   "execution_count": 7,
   "metadata": {},
   "outputs": [],
   "source": [
    "def get_category_items(base_soup, index):\n",
    "    result = []\n",
    "    stock_list = []\n",
    "    for category_item in base_soup.findAll(\"div\", { \"class\" : \"category\" })[index].find_all('a'):\n",
    "        category_name = category_item.attrs['title']\n",
    "        category_code =  category_item.attrs['name']\n",
    "        category_url = base_url + category_item.attrs['href']\n",
    "        category_data = {'code': category_code, 'name': category_name, 'stocks': []}\n",
    "        # print('{} {}: {}'.format(category_name, category_code, category_url))\n",
    "        category_res = requests.get(category_url)\n",
    "        category_soup = BeautifulSoup(category_res.text, 'lxml')\n",
    "        for stock_item in category_soup.findAll(\"div\", { \"class\" : \"c_content clearfix\" })[0].find_all('a'):\n",
    "            stock_name = stock_item.attrs['title']\n",
    "            stock_code = stock_item.attrs['href'][1:-1]\n",
    "            if stock_code.startswith('0') or stock_code.startswith('3'):\n",
    "                stock_code += '.XSHE'\n",
    "            elif stock_code.startswith('6'):\n",
    "                stock_code += '.XSHG'\n",
    "            else:\n",
    "                continue\n",
    "            stock_url = base_url + stock_item.attrs['href']\n",
    "            category_data['stocks'].append({'code': stock_code, 'name': stock_name, 'url': stock_url})\n",
    "            stock_list.append(stock_code)\n",
    "            # print('{} {}: {}'.format(stock_name, stock_code, stock_url))\n",
    "        result.append(category_data)\n",
    "    return result, set(stock_list)\n",
    "            \n",
    "ths_industry_category, ths_industry_stock_list = get_category_items(base_soup, 0)\n",
    "ths_concept_category, ths_concept_stock_list = get_category_items(base_soup, 2)"
   ]
  },
  {
   "cell_type": "code",
   "execution_count": 10,
   "metadata": {},
   "outputs": [],
   "source": [
    "stock_categories = {}\n",
    "\n",
    "categories = [ths_industry_category, ths_concept_category] \n",
    "for category in categories:\n",
    "    for plate in category:\n",
    "        for stock in plate['stocks']:\n",
    "            if stock['code'] in stock_categories:\n",
    "                stock_categories[stock['code']].append(plate['name'])\n",
    "            else:\n",
    "                stock_categories[stock['code']] = [plate['name']]\n"
   ]
  },
  {
   "cell_type": "code",
   "execution_count": 46,
   "metadata": {},
   "outputs": [
    {
     "ename": "KeyError",
     "evalue": "'603955.XSHG'",
     "output_type": "error",
     "traceback": [
      "\u001b[0;31m---------------------------------------------------------------------------\u001b[0m",
      "\u001b[0;31mKeyError\u001b[0m                                  Traceback (most recent call last)",
      "\u001b[0;32m<ipython-input-46-722e17169366>\u001b[0m in \u001b[0;36m<module>\u001b[0;34m()\u001b[0m\n\u001b[0;32m----> 1\u001b[0;31m \u001b[0mstock_categories\u001b[0m\u001b[0;34m[\u001b[0m\u001b[0;34m'603955.XSHG'\u001b[0m\u001b[0;34m]\u001b[0m\u001b[0;34m\u001b[0m\u001b[0m\n\u001b[0m",
      "\u001b[0;31mKeyError\u001b[0m: '603955.XSHG'"
     ]
    }
   ],
   "source": [
    "stock_categories['603955.XSHG']"
   ]
  }
 ],
 "metadata": {
  "kernelspec": {
   "display_name": "Python 3",
   "language": "python",
   "name": "python3"
  },
  "language_info": {
   "codemirror_mode": {
    "name": "ipython",
    "version": 3
   },
   "file_extension": ".py",
   "mimetype": "text/x-python",
   "name": "python",
   "nbconvert_exporter": "python",
   "pygments_lexer": "ipython3",
   "version": "3.6.0"
  }
 },
 "nbformat": 4,
 "nbformat_minor": 2
}
