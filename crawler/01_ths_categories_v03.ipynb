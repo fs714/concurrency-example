{
 "cells": [
  {
   "cell_type": "code",
   "execution_count": null,
   "metadata": {},
   "outputs": [],
   "source": [
    "import re\n",
    "import requests\n",
    "from bs4 import BeautifulSoup\n",
    "from pymongo import MongoClient"
   ]
  },
  {
   "cell_type": "code",
   "execution_count": null,
   "metadata": {},
   "outputs": [],
   "source": [
    "db_ip = '192.168.1.21'\n",
    "db_port = 27017\n",
    "db_kline_name = 'ricequant'\n",
    "db_hunter_name = 'hunter'\n",
    "col_stock_sector_name = 'stock_sector'\n",
    "\n",
    "client = MongoClient(db_ip, db_port)\n",
    "db_kline = client[db_kline_name]\n",
    "code_list = db_kline.collection_names(include_system_collections=False)\n",
    "\n",
    "col_stock_sector = client[db_hunter_name][col_stock_sector_name]"
   ]
  },
  {
   "cell_type": "code",
   "execution_count": null,
   "metadata": {},
   "outputs": [],
   "source": [
    "base_url = 'http://basic.10jqka.com.cn/'\n",
    "company_post_url = '/company.html'\n",
    "concept_post_url = '/concept.html'"
   ]
  },
  {
   "cell_type": "code",
   "execution_count": null,
   "metadata": {},
   "outputs": [],
   "source": [
    "def get_stock_industry(code):\n",
    "    res = requests.get(base_url + code + company_post_url)\n",
    "    soup = BeautifulSoup(res.text, 'lxml')\n",
    "    table = soup.find('table', attrs={'class':'m_table'})\n",
    "    industry = table.find_all('tr')[1].find_all('td')[1].findAll(text=True)[1]\n",
    "    pattern = re.compile('.*\\w.*')\n",
    "    if pattern.search(industry):\n",
    "        industry = industry.split(' — ')\n",
    "        industry = list(set(industry))\n",
    "    else:\n",
    "        print('Can not find industry for {}, raw industry: {}'.format(code, industry))\n",
    "        industry = []\n",
    "    return industry\n",
    "\n",
    "def get_stock_concept(code):\n",
    "    res = requests.get(base_url + code + concept_post_url)\n",
    "    soup = BeautifulSoup(res.text, 'lxml')\n",
    "    \n",
    "    normal_concept = []\n",
    "    normal_div = soup.find_all('div', attrs={'id':'concept'})\n",
    "    if len(normal_div) > 0:\n",
    "        normal_tables = normal_div[0].find_all('table', attrs={'class':'gnContent'})\n",
    "        if len(normal_tables) > 0:\n",
    "            for item in normal_tables[0].find_all('td', attrs={'class':'gnName'}):\n",
    "                normal_concept.append(item.text.strip())\n",
    "    \n",
    "    emerging_concept = []\n",
    "    emerging_div = soup.find_all('div', attrs={'id':'emerging'})\n",
    "    if len(emerging_div) > 0:\n",
    "        emerging_tables = emerging_div[0].find_all('table', attrs={'class':'gnContent'})\n",
    "        if len(emerging_tables) > 0:\n",
    "            for item in emerging_tables[0].find_all('td', attrs={'class':'gnStockList'}):\n",
    "                emerging_concept.append(item.text.strip())\n",
    "    \n",
    "    other_concept = []\n",
    "    other_div = soup.find_all('div', attrs={'id':'other'})\n",
    "    if len(other_div) > 0:\n",
    "        other_tables = other_div[0].find_all('table', attrs={'class':'gnContent'})\n",
    "        if len(other_tables) > 0:\n",
    "            for item in other_tables[0].find_all('td', attrs={'class':'gnStockList'}):\n",
    "                other_concept.append(item.text.strip())\n",
    "    \n",
    "    return normal_concept, emerging_concept, other_concept"
   ]
  },
  {
   "cell_type": "code",
   "execution_count": null,
   "metadata": {},
   "outputs": [],
   "source": [
    "stock_category = []\n",
    "for idx, code in enumerate(code_list):\n",
    "    simple_code = code.split('.')[0]\n",
    "    ths_industry = get_stock_industry(simple_code)\n",
    "    ths_normal_concept, ths_emerging_concept, ths_other_concept = get_stock_concept(simple_code)\n",
    "    stock_info = {'code': code,\n",
    "                  'ths_industry': ths_industry,\n",
    "                  'ths_normal_concept': ths_normal_concept,\n",
    "                  'ths_emerging_concept': ths_emerging_concept,\n",
    "                  'ths_other_concept': ths_other_concept}\n",
    "    stock_category.append(stock_info)\n",
    "    print('{} {}: {} {} {} {}'.format(idx, code, ths_industry, ths_normal_concept, ths_emerging_concept, ths_other_concept))\n",
    "print('Finished')"
   ]
  },
  {
   "cell_type": "code",
   "execution_count": null,
   "metadata": {},
   "outputs": [],
   "source": [
    "stock_category_doc = []\n",
    "for st in stock_category:\n",
    "    for cat in st['ths_industry']:\n",
    "        stock_category_doc.append({'windCode': st['code'], 'sector': cat, 'type': 'ths_industry'})\n",
    "    for cat in st['ths_normal_concept']:\n",
    "        stock_category_doc.append({'windCode': st['code'], 'sector': cat, 'type': 'ths_normal_concept'})\n",
    "    for cat in st['ths_emerging_concept']:\n",
    "        stock_category_doc.append({'windCode': st['code'], 'sector': cat, 'type': 'ths_emerging_concept'})\n",
    "    for cat in st['ths_other_concept']:\n",
    "        stock_category_doc.append({'windCode': st['code'], 'sector': cat, 'type': 'ths_other_concept'})"
   ]
  },
  {
   "cell_type": "code",
   "execution_count": null,
   "metadata": {},
   "outputs": [],
   "source": [
    "col_stock_sector.delete_many({})\n",
    "\n",
    "if stock_category_doc and len(stock_category_doc) > 0:\n",
    "    col_stock_sector.insert_many(stock_category_doc)"
   ]
  },
  {
   "cell_type": "code",
   "execution_count": null,
   "metadata": {},
   "outputs": [],
   "source": []
  }
 ],
 "metadata": {
  "kernelspec": {
   "display_name": "Python 3",
   "language": "python",
   "name": "python3"
  },
  "language_info": {
   "codemirror_mode": {
    "name": "ipython",
    "version": 3
   },
   "file_extension": ".py",
   "mimetype": "text/x-python",
   "name": "python",
   "nbconvert_exporter": "python",
   "pygments_lexer": "ipython3",
   "version": "3.6.0"
  }
 },
 "nbformat": 4,
 "nbformat_minor": 2
}
