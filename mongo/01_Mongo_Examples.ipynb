{
 "cells": [
  {
   "cell_type": "code",
   "execution_count": 1,
   "metadata": {},
   "outputs": [
    {
     "name": "stdout",
     "output_type": "stream",
     "text": [
      "Finished\n"
     ]
    }
   ],
   "source": [
    "import os\n",
    "from pymongo import MongoClient\n",
    "\n",
    "def get_code_from_colname(colname):\n",
    "    (market, code) = colname.split('_')\n",
    "    return code + '.' + market\n",
    "\n",
    "wind_db_name = os.environ.get('WIND_DB', 'emquant')\n",
    "chan_db_name = os.environ.get('CHAN_DB', 'emchan')\n",
    "db_ip = os.environ.get('MONGO_DB_IP_ADDR', '172.17.0.1')\n",
    "db_port = int(os.environ.get('MONGO_DB_PORT', 27017))\n",
    "\n",
    "# wind_db_name = os.environ.get('WIND_DB', 'wind')\n",
    "# chan_db_name = os.environ.get('CHAN_DB', 'chan')\n",
    "# db_ip = os.environ.get('MONGO_DB_IP_ADDR', '192.168.1.103')\n",
    "# db_port = int(os.environ.get('MONGO_DB_PORT', 27017))\n",
    "\n",
    "client = MongoClient(db_ip, db_port)\n",
    "db_wind = client[wind_db_name]\n",
    "db_chan = client[chan_db_name]\n",
    "\n",
    "chankline_col = db_chan['chankline']\n",
    "\n",
    "code_list = db_wind.collection_names(include_system_collections=False)\n",
    "code_list = [get_code_from_colname(code) for code in code_list if 'SH' in code or 'SZ' in code]\n",
    "\n",
    "for code in code_list:\n",
    "    filter = {'windCode': code, 'ktype': '1_1'}\n",
    "    cursor = chankline_col.find(filter).sort('index', -1).limit(1)\n",
    "    for doc in cursor:\n",
    "        if doc['inclusive'] != 0:\n",
    "            print(doc)\n",
    "        \n",
    "print('Finished')"
   ]
  }
 ],
 "metadata": {
  "kernelspec": {
   "display_name": "Python 3",
   "language": "python",
   "name": "python3"
  },
  "language_info": {
   "codemirror_mode": {
    "name": "ipython",
    "version": 3
   },
   "file_extension": ".py",
   "mimetype": "text/x-python",
   "name": "python",
   "nbconvert_exporter": "python",
   "pygments_lexer": "ipython3",
   "version": "3.6.0"
  }
 },
 "nbformat": 4,
 "nbformat_minor": 2
}
