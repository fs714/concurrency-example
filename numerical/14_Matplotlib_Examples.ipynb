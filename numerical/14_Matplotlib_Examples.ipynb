{
 "cells": [
  {
   "cell_type": "code",
   "execution_count": null,
   "metadata": {},
   "outputs": [],
   "source": [
    "%matplotlib inline\n",
    "\n",
    "import pandas as pd\n",
    "import matplotlib.pyplot as plt\n",
    "\n",
    "df = pd.DataFrame({'A1': [1, 2, 3, 4, 5]})\n",
    "\n",
    "plt.figure()\n",
    "df.plot.hist(bins=20)\n",
    "\n",
    "plt.figure()\n",
    "df_count = df.A1.value_counts(normalize=True, bins=10)\n",
    "df_count.sort_index().plot(kind='bar', figsize=(6, 4))\n"
   ]
  },
  {
   "cell_type": "code",
   "execution_count": null,
   "metadata": {},
   "outputs": [],
   "source": [
    "%matplotlib inline\n",
    "\n",
    "from pymongo import MongoClient\n",
    "import matplotlib.pyplot as plt\n",
    "\n",
    "def load_samples_from_db(collection, index=0):\n",
    "    doc = collection.find_one({'index': index})\n",
    "    samples = pd.read_json(doc['data'], orient='columns', convert_dates=True)\n",
    "    samples.sort_index(inplace=True)\n",
    "    return samples\n",
    "\n",
    "fields = ['date', 'close', 'high_limit', 'pct', 'top_fractal_num', 'bot_fractal_num', 'top_fractal_trend',\n",
    "          'bot_fractal_trend', 'last_top_fractal_pct', 'last_bot_fractal_pct', 'concave_num',\n",
    "          'break_count_ratio', 'above_time_division_ratio', 'kline_volume_var', 'rise_kline_volume_var',\n",
    "          'above_pre_close_ratio', 'y']\n",
    "\n",
    "db_ip = '192.168.1.21'\n",
    "db_port = 27017\n",
    "db_sample_name = 'training'\n",
    "col_sample_name = 'limitup'\n",
    "\n",
    "col_sample = MongoClient(db_ip, db_port)[db_sample_name][col_sample_name]\n",
    "\n",
    "samples = load_samples_from_db(col_sample)\n",
    "\n",
    "draw = samples['pct'].value_counts(normalize=True, bins=20)\n",
    "# draw = samples['concave_num'].value_counts(normalize=True)\n",
    "\n",
    "plt.figure();\n",
    "draw.sort_index().plot(kind='bar', figsize=(9, 4))\n",
    "\n",
    "# samples.loc[samples['top_fractal_num'] > 2]"
   ]
  }
 ],
 "metadata": {
  "kernelspec": {
   "display_name": "Python 3",
   "language": "python",
   "name": "python3"
  },
  "language_info": {
   "codemirror_mode": {
    "name": "ipython",
    "version": 3
   },
   "file_extension": ".py",
   "mimetype": "text/x-python",
   "name": "python",
   "nbconvert_exporter": "python",
   "pygments_lexer": "ipython3",
   "version": "3.6.0"
  }
 },
 "nbformat": 4,
 "nbformat_minor": 2
}
