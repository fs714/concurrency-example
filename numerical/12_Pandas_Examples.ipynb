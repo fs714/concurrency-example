{
 "cells": [
  {
   "cell_type": "code",
   "execution_count": null,
   "metadata": {
    "collapsed": true
   },
   "outputs": [],
   "source": [
    "import pandas as pd\n",
    "from datetime import datetime as dt\n",
    "\n",
    "a = [dt(2017,3,1), dt(2017,3,2), dt(2017,3,8)]\n",
    "b = [1, 2, 3]\n",
    "\n",
    "df = pd.DataFrame()\n",
    "df['A'] = a\n",
    "df['B'] = b\n",
    "\n",
    "df['A'] >= dt(2017, 3, 5)\n",
    "\n",
    "df['A'][0].to_pydatetime()"
   ]
  },
  {
   "cell_type": "code",
   "execution_count": null,
   "metadata": {
    "collapsed": true
   },
   "outputs": [],
   "source": [
    "from datetime import datetime\n",
    "import time\n",
    "\n",
    "dt = datetime(2011, 10, 21, 15, 35, 26)\n",
    "s = time.mktime(dt.timetuple())\n",
    "print(s)\n",
    "\n",
    "# and back\n",
    "dt_new = datetime.fromtimestamp(s)\n",
    "print(dt_new)"
   ]
  },
  {
   "cell_type": "code",
   "execution_count": null,
   "metadata": {
    "collapsed": true
   },
   "outputs": [],
   "source": [
    "import pandas as pd\n",
    "\n",
    "a1 = [1, 2, 3, 4]\n",
    "a2 = [11, 12, 13, 14]\n",
    "a3 = [21, 22, 23, 24]\n",
    "a4 = [31, 32, 33, 34]\n",
    "\n",
    "df1 = pd.DataFrame({'A1': a1, 'A2': a2, 'A3': a3, 'A4': a4})\n",
    "print(df1)\n",
    "\n",
    "df2 = pd.DataFrame(columns=['A1', 'A2', 'A3', 'A3'])\n",
    "for i in range(0, len(a1)):\n",
    "    df2.loc[i] = [a1[i], a2[i], a3[i], a4[i]]\n",
    "print(df2)\n",
    "\n",
    "a5 = [41, 42, 43, 44]\n",
    "df4 = pd.DataFrame({'A1': a1, 'A2': a2, 'A3': a3, 'A4': a4})\n",
    "df4['A5'] = a5\n",
    "print(df4)\n"
   ]
  },
  {
   "cell_type": "code",
   "execution_count": null,
   "metadata": {
    "collapsed": true
   },
   "outputs": [],
   "source": [
    "import pandas as pd\n",
    "import numpy as np\n",
    "\n",
    "data = np.linspace(0, 17, 18).reshape(-1, 3)\n",
    "print(data)\n",
    "print(data[:, [0, 2]])\n",
    "print(data[:, [True, False, True]])\n",
    "df = pd.DataFrame(data, columns=list('ABC'))\n",
    "print(df)\n"
   ]
  },
  {
   "cell_type": "code",
   "execution_count": null,
   "metadata": {
    "collapsed": true
   },
   "outputs": [],
   "source": [
    "import pandas as pd\n",
    "\n",
    "a1 = [1, 2, 3, 4]\n",
    "a2 = [11, 12, 13, 14]\n",
    "a3 = [21, 22, 23, 24]\n",
    "a4 = [31, 32, 33, 34]\n",
    "\n",
    "df = pd.DataFrame({'A1': a1, 'A2': a2, 'A3': a3, 'A4': a4})\n",
    "\n",
    "print(df)\n",
    "print(df.index)\n",
    "print(df.columns)\n",
    "print(df.shape)\n",
    "print(df.values)\n"
   ]
  },
  {
   "cell_type": "code",
   "execution_count": null,
   "metadata": {},
   "outputs": [],
   "source": [
    "import pandas as pd\n",
    "\n",
    "a1 = [1, 2, 3, 4]\n",
    "a2 = [11, 12, 13, 14]\n",
    "a3 = [21, 22, 23, 24]\n",
    "a4 = [31, 32, 33, 34]\n",
    "\n",
    "df = pd.DataFrame({'A1': a1, 'A2': a2, 'A3': a3, 'A4': a4})\n",
    "\n",
    "print(df)\n",
    "\n",
    "# print(df['A1'][0])\n",
    "# print(df.loc[0, 'A1'])\n",
    "# print(df.loc[0].A1)\n",
    "# print(df.loc[0]['A1'])\n",
    "\n",
    "# print(df['A1'])\n",
    "# print(df.A1)\n",
    "\n",
    "# print(df[1:3])\n",
    "# print(df.loc[1:3])\n",
    "# print(df.loc[1])\n",
    "\n",
    "# print(df[1:3]['A1'])\n",
    "# print(df.loc[1:3]['A1'])\n",
    "# print(df.loc[1:3, 'A1'])\n",
    "# print(df.loc[1:3, ['A1']])\n",
    "# print(df.loc[1:3, ['A1', 'A2']])\n",
    "# print(df.loc[:, ['A1', 'A2']])\n",
    "\n",
    "# print(df.iloc[1])\n",
    "# print(df.iloc[1, 0])\n",
    "# print(df.iloc[1][0])\n",
    "# print(df.iloc[1]['A1'])\n",
    "# print(df.iloc[1:3, 0:2])\n",
    "\n",
    "# print(df[df > 12])\n",
    "# print(df['A2'] > 12)\n",
    "# print(df[df['A2'] > 12])\n",
    "# print(df[(df.A2 > 12) & (df.A3 < 24)])\n",
    "\n",
    "# df1 = df[df['A1'] > 2].copy()\n",
    "# print(df1)\n",
    "# print(df1.loc[3])\n",
    "# print(df1.iloc[1])\n",
    "\n",
    "# print(df[['A1', 'A2']][df[['A1', 'A2']] > 12].count())\n",
    "\n",
    "# print(df[['A1', 'A2']][(df[['A1', 'A2']] > 12) | (df[['A1', 'A2']] < 2)].count())\n"
   ]
  },
  {
   "cell_type": "code",
   "execution_count": null,
   "metadata": {
    "collapsed": true
   },
   "outputs": [],
   "source": [
    "import pandas as pd\n",
    "\n",
    "a1 = [1, 2, 3, 4]\n",
    "a2 = [11, 12, 13, 14]\n",
    "a3 = [21, 22, 23, 24]\n",
    "a4 = [31, 32, 33, 34]\n",
    "\n",
    "df = pd.DataFrame({'A1': a1, 'A2': a2, 'A3': a3, 'A4': a4})\n",
    "\n",
    "print(df)\n",
    "\n",
    "# df1 = df\n",
    "# print(df1)\n",
    "# df1.loc[1]['A2'] = 100\n",
    "# print(df1)\n",
    "# print(df)\n",
    "\n",
    "# df2 = df[0:2]\n",
    "# print(df2)\n",
    "# df2.loc[1]['A2'] = 100\n",
    "# print(df2)\n",
    "# print(df)\n",
    "\n",
    "# df3 = df.loc[0:2]\n",
    "# print(df3)\n",
    "# df3.loc[1]['A2'] = 100\n",
    "# print(df3)\n",
    "# print(df)\n",
    "\n",
    "# df4 = df.loc[0:2, ['A2', 'A3']]\n",
    "# print(df4)\n",
    "# df4.loc[1]['A2'] = 100\n",
    "# print(df4)\n",
    "# print(df)\n",
    "\n",
    "# df5 = df.loc[:, ['A2', 'A3']]\n",
    "# print(df5)\n",
    "# df5.loc[1]['A2'] = 100\n",
    "# print(df5)\n",
    "# print(df)\n",
    "\n",
    "# df6 = df.loc[(df['A1'] > 1) & (df['A1'] < 4), ['A2', 'A3']]\n",
    "# print(df6)\n",
    "# df6.loc[1]['A2'] = 100\n",
    "# print(df6)\n",
    "# print(df)\n"
   ]
  },
  {
   "cell_type": "code",
   "execution_count": null,
   "metadata": {
    "collapsed": true
   },
   "outputs": [],
   "source": [
    "import pandas as pd\n",
    "\n",
    "a1 = [1, 2, 3, 4]\n",
    "a2 = [11, 12, 13, 14]\n",
    "a3 = [21, 22, 23, 24]\n",
    "a4 = [31, 32, 33, 34]\n",
    "\n",
    "df = pd.DataFrame({'A1': a1, 'A2': a2, 'A3': a3, 'A4': a4})\n",
    "\n",
    "# for index, row in df.iterrows():\n",
    "#     print(index)\n",
    "#     print(row)\n",
    "    \n",
    "# for row in df.itertuples():\n",
    "#     print(row)\n",
    "\n",
    "# df1 = df[df['A1'] > 2].copy()\n",
    "# print(df1)\n",
    "\n",
    "# for index, row in df1.iterrows():\n",
    "#     print(index)\n",
    "#     print(row)\n"
   ]
  },
  {
   "cell_type": "code",
   "execution_count": null,
   "metadata": {
    "collapsed": true
   },
   "outputs": [],
   "source": [
    "import pandas as pd\n",
    "\n",
    "a1 = [1, 2, 3, 4]\n",
    "a2 = [11, 12, 13, 14]\n",
    "a3 = [21, 22, 23, 24]\n",
    "a4 = [31, 32, 33, 34]\n",
    "\n",
    "df = pd.DataFrame({'A1': a1, 'A2': a2, 'A3': a3, 'A4': a4})\n",
    "\n",
    "def valuation_formula(x, y):\n",
    "    return x * y * 0.5\n",
    "\n",
    "df.apply(lambda row: valuation_formula(row['A1'], row['A2']), axis=1)\n"
   ]
  },
  {
   "cell_type": "code",
   "execution_count": null,
   "metadata": {
    "collapsed": true
   },
   "outputs": [],
   "source": [
    "import pandas as pd\n",
    "\n",
    "a1 = [1, 2, 3, 4]\n",
    "a2 = [11, 12, 13, 14]\n",
    "a3 = [21, 22, 23, 24]\n",
    "a4 = [31, 32, 33, 34]\n",
    "\n",
    "df = pd.DataFrame({'A1': a1, 'A2': a2, 'A3': a3, 'A4': a4})\n",
    "\n",
    "df['A1'] = df['A1'].apply(lambda x: x * 10)\n",
    "\n",
    "df\n"
   ]
  },
  {
   "cell_type": "code",
   "execution_count": null,
   "metadata": {
    "collapsed": true
   },
   "outputs": [],
   "source": [
    "import numpy as np\n",
    "import pandas as pd\n",
    "\n",
    "close = np.array([1, 2, 5, 5, 5, 4, 3, 4, 5, 5, 5, 5, 4, 3, 2, 4, 5, 5], dtype=np.float64)\n",
    "df = pd.DataFrame({'close': close})\n",
    "\n",
    "\n",
    "df['binary'] = df.apply(lambda row: 1 if row['close'] == 5 else 0, axis=1)\n",
    "df['binary_diff'] = [0] + np.diff(df['binary']).tolist()\n",
    "\n",
    "\n",
    "def get_concave_num(index):\n",
    "    return ((df.index <= index) & (df['binary_diff'] == -1)).sum()\n",
    "\n",
    "def get_break_count(index):\n",
    "    return ((df.index <= index) & (df['binary'] == 0) & (df['concave_num'] > 0)).sum()\n",
    "\n",
    "df['concave_num'] = df.apply(lambda row: get_concave_num(row._name), axis=1)\n",
    "\n",
    "df['break_count'] = df.apply(lambda row: get_break_count(row._name), axis=1)\n",
    "\n",
    "print(df)\n"
   ]
  },
  {
   "cell_type": "code",
   "execution_count": null,
   "metadata": {
    "collapsed": true,
    "scrolled": true
   },
   "outputs": [],
   "source": [
    "import pandas as pd\n",
    "from sklearn import preprocessing\n",
    "\n",
    "a1 = [1, 2, 3, 4]\n",
    "a2 = [11, 12, 150, 17]\n",
    "a3 = [21, 22, 23, 24]\n",
    "a4 = [31, 32, 33, 34]\n",
    "\n",
    "df1 = pd.DataFrame({'A1': a1, 'A2': a2, 'A3': a3, 'A4': a4})\n",
    "\n",
    "print(df1)\n",
    "\n",
    "min_max_scaler = preprocessing.MinMaxScaler()\n",
    "a11 = min_max_scaler.fit_transform(df1['A1'])\n",
    "\n",
    "print(type(df1['A1']))\n",
    "print(type(a11))\n",
    "\n",
    "df1['A1'] = a11\n",
    "print(type(df1['A1']))\n",
    "\n",
    "df1.loc[:, ['A1', 'A2']] = min_max_scaler.fit_transform(df1.loc[:, ['A1', 'A2']])\n",
    "\n",
    "print(df1)\n"
   ]
  },
  {
   "cell_type": "code",
   "execution_count": null,
   "metadata": {
    "collapsed": true
   },
   "outputs": [],
   "source": [
    "import pandas as pd\n",
    "\n",
    "a1 = [1, 2, 3, 4]\n",
    "a2 = [11, 12, 13, 14]\n",
    "a3 = [21, 22, 23, 24]\n",
    "a4 = [31, 32, 33, 34]\n",
    "\n",
    "df = pd.DataFrame({'A1': a1, 'A2': a2, 'A3': a3, 'A4': a4})\n",
    "print(df)\n",
    "\n",
    "df1 = df.loc[(df['A1'] > 1) & (df['A1'] < 4), ['A2', 'A3']]\n",
    "print(df1)\n",
    "\n",
    "df1['A5'] = [42, 43]\n",
    "print(df1)\n",
    "\n",
    "df['A6'] = [51, 52, 53, 54]\n",
    "df['A7'] = [61, 62, 63, 64]\n",
    "print(df)\n",
    "\n",
    "df2 = df.loc[df1.index, ['A6', 'A7']]\n",
    "print(df2)\n",
    "\n",
    "df1 = pd.concat([df1, df2], axis=1)\n",
    "print(df1)\n"
   ]
  },
  {
   "cell_type": "code",
   "execution_count": null,
   "metadata": {
    "collapsed": true
   },
   "outputs": [],
   "source": [
    "import pandas as pd\n",
    "\n",
    "a1 = [1, 2, 3, 4]\n",
    "a2 = [11, 12, 13, 14]\n",
    "a3 = [21, 22, 23, 24]\n",
    "a4 = [31, 32, 33, 34]\n",
    "\n",
    "df = pd.DataFrame({'A1': a1, 'A2': a2, 'A3': a3, 'A4': a4})\n",
    "print(df)\n",
    "\n",
    "a11 = [5, 6, 7, 8]\n",
    "a12 = [15, 16, 17, 18]\n",
    "a13 = [25, 26, 27, 28]\n",
    "a14 = [35, 36, 37, 38]\n",
    "\n",
    "df1 = pd.DataFrame({'A1': a11, 'A2': a12, 'A3': a13, 'A4': a14})\n",
    "print(df1)\n",
    "\n",
    "df2 = pd.concat([df, df1], axis=0, ignore_index=True)\n",
    "print(df2)\n"
   ]
  },
  {
   "cell_type": "code",
   "execution_count": 97,
   "metadata": {},
   "outputs": [
    {
     "name": "stdout",
     "output_type": "stream",
     "text": [
      "   A1  A2  A3  A4                date\n",
      "0   1  11  21  31 2017-06-01 13:05:00\n",
      "1   2  12  22  32 2017-06-01 13:06:00\n",
      "2   3  13  23  33 2017-06-01 13:07:00\n",
      "3   4  14  24  34 2017-06-01 13:08:00\n",
      "<class 'pandas.core.indexes.range.RangeIndex'>\n",
      "<class 'pandas.core.indexes.numeric.Int64Index'>\n",
      "<class 'pandas.core.indexes.range.RangeIndex'>\n",
      "<class 'pandas.core.indexes.numeric.Int64Index'>\n"
     ]
    }
   ],
   "source": [
    "import pandas as pd\n",
    "from datetime import datetime as dt\n",
    "\n",
    "a0 = [dt(2017, 6, 1, 13, 5), dt(2017, 6, 1, 13, 6), dt(2017, 6, 1, 13, 7), dt(2017, 6, 1, 13, 8)]\n",
    "a1 = [1, 2, 3, 4]\n",
    "a2 = [11, 12, 13, 14]\n",
    "a3 = [21, 22, 23, 24]\n",
    "a4 = [31, 32, 33, 34]\n",
    "\n",
    "df = pd.DataFrame({'A0': a0, 'A1': a1, 'A2': a2, 'A3': a3, 'A4': a4})\n",
    "\n",
    "print(df)\n",
    "df_json = df.to_json(orient='columns', date_format='iso')\n",
    "df_back = pd.read_json(df_json, orient='columns', convert_dates=True)\n",
    "print(df_json)\n",
    "print(df_back)\n",
    "print(type(df_back.loc[0]['A0']))\n",
    "print(type(df_back.loc[0]['A1']))\n",
    "\n",
    "\n",
    "# Change A0 to date\n",
    "df = pd.DataFrame({'date': a0, 'A1': a1, 'A2': a2, 'A3': a3, 'A4': a4})\n",
    "\n",
    "print(df)\n",
    "df_json = df.to_json(orient='columns', date_format='epoch')\n",
    "df_back = pd.read_json(df_json, orient='columns', convert_dates=True)\n",
    "print(df_json)\n",
    "print(df_back)\n",
    "print(type(df_back.loc[0]['date']))\n",
    "print(type(df_back.loc[0]['A1']))\n"
   ]
  },
  {
   "cell_type": "code",
   "execution_count": null,
   "metadata": {
    "collapsed": true
   },
   "outputs": [],
   "source": [
    "import random\n",
    "import pandas as pd\n",
    "\n",
    "from sklearn.model_selection import train_test_split\n",
    "from sklearn import svm\n",
    "\n",
    "df = pd.DataFrame(columns=['y', 'close', 'sma5', 'sma30'])\n",
    "\n",
    "for i in range(0, 100):\n",
    "    df.loc[i] = [random.choice([-1, 1]), random.randint(0, 10), random.uniform(0, 10), random.uniform(0, 10)]\n",
    "\n",
    "x = df.loc[:, ['close', 'sma5', 'sma30']]\n",
    "y = df.loc[:, ['y']]\n",
    "\n",
    "x_train, x_test, y_train, y_test = train_test_split(x, y, random_state=1)\n",
    "\n",
    "clf = svm.SVC()\n",
    "clf.fit(x_train, y_train.values.ravel())\n",
    "\n",
    "test_prediction = clf.predict(x_test)\n",
    "train_prediction = clf.predict(x_train)\n",
    "\n",
    "test_prediction_result = []\n",
    "for i in range(0, len(test_prediction)):\n",
    "    if y_test.iloc[i]['y'] == test_prediction[i]:\n",
    "        test_prediction_result.append(1)\n",
    "    else:\n",
    "        test_prediction_result.append(0)\n",
    "        \n",
    "train_prediction_result = []\n",
    "for i in range(0, len(train_prediction)):\n",
    "    if y_train.iloc[i]['y'] == train_prediction[i]:\n",
    "        train_prediction_result.append(1)\n",
    "    else:\n",
    "        train_prediction_result.append(0)\n",
    "\n",
    "print(sum(test_prediction_result) / len(test_prediction_result))\n",
    "print(sum(train_prediction_result) / len(train_prediction_result))\n"
   ]
  },
  {
   "cell_type": "code",
   "execution_count": null,
   "metadata": {
    "collapsed": true
   },
   "outputs": [],
   "source": [
    "import pandas as pd\n",
    "from datetime import datetime\n",
    "\n",
    "dt_str = ['2017-03-01', '2017-03-02', '2017-03-03', '2017-03-04', '2017-03-05', ]\n",
    "dt = [datetime.strptime(i,'%Y-%m-%d') for i in dt_str]\n",
    "\n",
    "print(pd.Timestamp(dt[0]))\n",
    "\n",
    "dt_01 = pd.Index(pd.Timestamp(d) for d in dt)\n",
    "\n",
    "print(dt_01[0].to_pydatetime())\n",
    "print(type(dt_01[0].to_pydatetime()))"
   ]
  }
 ],
 "metadata": {
  "kernelspec": {
   "display_name": "Python 3",
   "language": "python",
   "name": "python3"
  },
  "language_info": {
   "codemirror_mode": {
    "name": "ipython",
    "version": 3
   },
   "file_extension": ".py",
   "mimetype": "text/x-python",
   "name": "python",
   "nbconvert_exporter": "python",
   "pygments_lexer": "ipython3",
   "version": "3.6.0"
  }
 },
 "nbformat": 4,
 "nbformat_minor": 2
}
