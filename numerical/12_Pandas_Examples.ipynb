{
 "cells": [
  {
   "cell_type": "code",
   "execution_count": null,
   "metadata": {
    "scrolled": true
   },
   "outputs": [],
   "source": [
    "import pandas as pd\n",
    "\n",
    "df = pd.DataFrame(columns=['y', 'close', 'sma5', 'sma30'])\n",
    "df.loc['a'] = [1, 10, 9, 8]\n",
    "df.loc['b'] = [-1, 11, 12, 13]\n",
    "df.loc['c'] = [-1, 5, 6, 7]\n",
    "\n",
    "print(df.loc['a']['y'])\n",
    "print(df.iloc[0]['y'])\n",
    "\n",
    "df"
   ]
  },
  {
   "cell_type": "code",
   "execution_count": 118,
   "metadata": {},
   "outputs": [
    {
     "name": "stdout",
     "output_type": "stream",
     "text": [
      "0.4\n",
      "0.9733333333333334\n"
     ]
    }
   ],
   "source": [
    "import random\n",
    "import pandas as pd\n",
    "\n",
    "from sklearn.model_selection import train_test_split\n",
    "from sklearn import svm\n",
    "\n",
    "df = pd.DataFrame(columns=['y', 'close', 'sma5', 'sma30'])\n",
    "\n",
    "for i in range(0, 100):\n",
    "    df.loc[i] = [random.choice([-1, 1]), random.randint(0, 10), random.uniform(0, 10), random.uniform(0, 10)]\n",
    "\n",
    "x = df.loc[:, ['close', 'sma5', 'sma30']]\n",
    "y = df.loc[:, ['y']]\n",
    "\n",
    "x_train, x_test, y_train, y_test = train_test_split(x, y, random_state=1)\n",
    "\n",
    "clf = svm.SVC()\n",
    "clf.fit(x_train, y_train.values.ravel())\n",
    "\n",
    "test_prediction = clf.predict(x_test)\n",
    "train_prediction = clf.predict(x_train)\n",
    "\n",
    "test_prediction_result = []\n",
    "for i in range(0, len(test_prediction)):\n",
    "    if y_test.iloc[i]['y'] == test_prediction[i]:\n",
    "        test_prediction_result.append(1)\n",
    "    else:\n",
    "        test_prediction_result.append(0)\n",
    "        \n",
    "train_prediction_result = []\n",
    "for i in range(0, len(train_prediction)):\n",
    "    if y_train.iloc[i]['y'] == train_prediction[i]:\n",
    "        train_prediction_result.append(1)\n",
    "    else:\n",
    "        train_prediction_result.append(0)\n",
    "\n",
    "print(sum(test_prediction_result) / len(test_prediction_result))\n",
    "print(sum(train_prediction_result) / len(train_prediction_result))\n"
   ]
  },
  {
   "cell_type": "code",
   "execution_count": null,
   "metadata": {
    "collapsed": true
   },
   "outputs": [],
   "source": [
    "import pandas as pd\n",
    "from datetime import datetime\n",
    "\n",
    "dt_str = ['2017-03-01', '2017-03-02', '2017-03-03', '2017-03-04', '2017-03-05', ]\n",
    "dt = [datetime.strptime(i,'%Y-%m-%d') for i in dt_str]\n",
    "\n",
    "print(pd.Timestamp(dt[0]))\n",
    "\n",
    "dt_01 = pd.Index(pd.Timestamp(d) for d in dt)\n",
    "\n",
    "print(dt_01[0].to_pydatetime())\n",
    "print(type(dt_01[0].to_pydatetime()))"
   ]
  }
 ],
 "metadata": {
  "kernelspec": {
   "display_name": "Python 3",
   "language": "python",
   "name": "python3"
  },
  "language_info": {
   "codemirror_mode": {
    "name": "ipython",
    "version": 3
   },
   "file_extension": ".py",
   "mimetype": "text/x-python",
   "name": "python",
   "nbconvert_exporter": "python",
   "pygments_lexer": "ipython3",
   "version": "3.6.0"
  }
 },
 "nbformat": 4,
 "nbformat_minor": 2
}
