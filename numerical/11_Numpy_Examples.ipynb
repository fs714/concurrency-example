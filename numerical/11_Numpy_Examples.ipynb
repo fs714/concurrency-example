{
 "cells": [
  {
   "cell_type": "code",
   "execution_count": null,
   "metadata": {
    "collapsed": true,
    "scrolled": true
   },
   "outputs": [],
   "source": [
    "import numpy as np\n",
    "\n",
    "data = np.array([1, 2, 3, 4, 5], dtype=np.float64)\n",
    "print(data.shape)\n",
    "print(data[2])\n",
    "\n",
    "data = np.array([[1, 2, 3], [4, 5, 6]], dtype=np.float64)\n",
    "print(data.shape)\n",
    "print(data[1])\n",
    "print(data[1][2])\n",
    "\n",
    "data = np.zeros(shape=(6, 3), dtype=np.float64)\n",
    "data = np.linspace(0, 17, 18, dtype=np.float64).reshape(6, 3)\n",
    "data = np.arange(0, 18, 1, dtype=np.float64).reshape(6, 3)\n",
    "\n",
    "data"
   ]
  },
  {
   "cell_type": "code",
   "execution_count": null,
   "metadata": {
    "collapsed": true,
    "scrolled": true
   },
   "outputs": [],
   "source": [
    "import numpy as np\n",
    "\n",
    "data = np.arange(0, 18, 1).reshape(6, 3)\n",
    "print(data)\n",
    "\n",
    "print(data.size)\n",
    "print(data.shape)\n",
    "\n",
    "data1 = data[1:3, 0:2]\n",
    "print(data1)\n",
    "\n",
    "data2 = data[3:]\n",
    "print(data2)\n",
    "\n",
    "data3 = data[:, 0]\n",
    "print(data3)\n",
    "\n",
    "data4 = data[:, 0:1]\n",
    "print(data4)\n",
    "\n",
    "data5 = data[:, 1:]\n",
    "print(data5)"
   ]
  },
  {
   "cell_type": "code",
   "execution_count": null,
   "metadata": {
    "collapsed": true
   },
   "outputs": [],
   "source": [
    "import numpy as np\n",
    "\n",
    "\n",
    "data_num = 20\n",
    "\n",
    "data = np.empty(shape=(data_num, 3))\n",
    "\n",
    "for i in range(0, data_num):\n",
    "    data[i] = [i, i, i]\n",
    "\n",
    "data"
   ]
  },
  {
   "cell_type": "code",
   "execution_count": null,
   "metadata": {
    "collapsed": true
   },
   "outputs": [],
   "source": [
    "import numpy as np\n",
    "\n",
    "d0 = np.array([0, 0, 0])\n",
    "d1 = np.array([1, 1, 1])\n",
    "\n",
    "np.concatenate((d0, d1), axis=0)\n",
    "np.append(d0, d1)\n",
    "\n",
    "d2 = np.array([[2, 2, 2], [3, 3, 3]])\n",
    "d3 = np.array([[4, 4, 4], [5, 5, 5]])\n",
    "\n",
    "np.concatenate((d2, d3), axis=0)\n",
    "np.append(d2, d3)\n",
    "np.append(d2, d1)\n",
    "np.append(d2, [6, 6, 6])\n",
    "np.append(d2, [7, 7, 7, 7])\n",
    "\n",
    "data = np.array([], dtype=np.float64)\n",
    "for i in range(0, 10):\n",
    "    data = np.append(data, [i, i, i])\n",
    "\n",
    "data.reshape(-1, 3)\n"
   ]
  },
  {
   "cell_type": "code",
   "execution_count": null,
   "metadata": {
    "collapsed": true
   },
   "outputs": [],
   "source": [
    "import numpy as np\n",
    "\n",
    "d0 = np.array([0, 0, 0])\n",
    "d1 = np.array([1, 1, 1])\n",
    "\n",
    "np.vstack((d0, d1))\n",
    "\n",
    "d2 = np.array([[2, 2, 2], [3, 3, 3]])\n",
    "d3 = np.array([[4, 4, 4], [5, 5, 5]])\n",
    "\n",
    "np.vstack((d2, d3))\n",
    "np.vstack((d2, d0))\n",
    "np.vstack((d2, [6, 6, 6]))\n",
    "\n",
    "data = None\n",
    "for i in range(0, 10):\n",
    "    if data is None:\n",
    "        data = np.array([i, i, i])\n",
    "    else:\n",
    "        data = np.vstack((data, [i, i, i]))\n",
    "\n",
    "data"
   ]
  },
  {
   "cell_type": "code",
   "execution_count": 141,
   "metadata": {},
   "outputs": [
    {
     "name": "stdout",
     "output_type": "stream",
     "text": [
      "0.488\n",
      "0.594\n"
     ]
    }
   ],
   "source": [
    "import random\n",
    "import numpy as np\n",
    "\n",
    "from sklearn.model_selection import train_test_split\n",
    "from sklearn import svm\n",
    "\n",
    "\n",
    "data_num = 100\n",
    "\n",
    "data = np.empty(shape=(data_num, 4))\n",
    "\n",
    "for i in range(0, data_num):\n",
    "    data[i] = [random.choice([-1, 1]), random.randint(0, 10), random.uniform(0, 10), random.uniform(0, 10)]\n",
    "\n",
    "x = data[:, 1:]\n",
    "y = data[:, 0]\n",
    "\n",
    "x_train, x_test, y_train, y_test = train_test_split(x, y, random_state=1)\n",
    "\n",
    "clf = svm.SVC()\n",
    "clf.fit(x_train, y_train)\n",
    "\n",
    "test_prediction = clf.predict(x_test)\n",
    "train_prediction = clf.predict(x_train)\n",
    "\n",
    "test_prediction_result = []\n",
    "for i in range(0, len(test_prediction)):\n",
    "    if y_test[i] == test_prediction[i]:\n",
    "        test_prediction_result.append(1)\n",
    "    else:\n",
    "        test_prediction_result.append(0)\n",
    "        \n",
    "train_prediction_result = []\n",
    "for i in range(0, len(train_prediction)):\n",
    "    if y_train[i] == train_prediction[i]:\n",
    "        train_prediction_result.append(1)\n",
    "    else:\n",
    "        train_prediction_result.append(0)\n",
    "\n",
    "print(sum(test_prediction_result) / len(test_prediction_result))\n",
    "print(sum(train_prediction_result) / len(train_prediction_result))\n"
   ]
  },
  {
   "cell_type": "code",
   "execution_count": null,
   "metadata": {
    "collapsed": true
   },
   "outputs": [],
   "source": [
    "import numpy as np\n",
    "\n",
    "\n",
    "FIELDS = {\n",
    "    'y': np.float64,\n",
    "    'close': np.float64,\n",
    "    'sma5': np.float64,\n",
    "    'sma30': np.float64\n",
    "}\n",
    "\n",
    "data_type = np.dtype([(name, FIELDS[name]) for name in FIELDS.keys()])\n",
    "print(data_type)\n",
    "\n",
    "data = np.zeros(shape=(6, ), dtype=data_type)\n",
    "data\n"
   ]
  },
  {
   "cell_type": "code",
   "execution_count": null,
   "metadata": {
    "collapsed": true
   },
   "outputs": [],
   "source": [
    "import numpy as np\n",
    "\n",
    "FIELDS = {\n",
    "    'datetime': np.uint64,\n",
    "    'open': np.dtype('float64'),\n",
    "    'close': np.dtype('float64'),\n",
    "    'high': np.dtype('float64'),\n",
    "    'low': np.dtype('float64'),\n",
    "    'volume': np.uint64,\n",
    "    'total_turnover': np.uint64,\n",
    "    'limit_up': np.dtype('float64'),\n",
    "    'limit_down': np.dtype('float64')\n",
    "}\n",
    "\n",
    "dtype = np.dtype([(f, FIELDS[f]) for f in FIELDS.keys()])\n",
    "result = np.zeros(shape=(), dtype=dtype)\n",
    "result['datetime'] = 20170310000\n",
    "result['open'] = 100\n",
    "result['close'] = 1000\n",
    "result['high'] = 200\n",
    "result['low'] = 1\n",
    "\n",
    "print(result['open'])"
   ]
  },
  {
   "cell_type": "code",
   "execution_count": null,
   "metadata": {
    "collapsed": true
   },
   "outputs": [],
   "source": [
    "# Numpy Structured Array\n",
    "import numpy as np\n",
    "\n",
    "FIELDS = {\n",
    "    'datetime': np.uint64,\n",
    "    'open': np.dtype('float64'),\n",
    "    'close': np.dtype('float64'),\n",
    "    'high': np.dtype('float64'),\n",
    "    'low': np.dtype('float64'),\n",
    "    'volume': np.uint64,\n",
    "    'total_turnover': np.uint64,\n",
    "    'limit_up': np.dtype('float64'),\n",
    "    'limit_down': np.dtype('float64')\n",
    "}\n",
    "\n",
    "dtype = np.dtype([(f, FIELDS[f]) for f in FIELDS.keys()])\n",
    "result = np.zeros(shape=(6,), dtype=dtype)\n",
    "for i in range(6):\n",
    "    result[i] = (i, ) * 9\n",
    "print(result)\n",
    "pos = result['close'].searchsorted(3)\n",
    "print(pos)\n",
    "print(result[pos])\n",
    "pos = result['close'].searchsorted(3, side='right')\n",
    "print(pos)\n",
    "print(result[pos])\n",
    "print(result[result['high'] > 2])\n",
    "print(result[['open', 'close']])"
   ]
  }
 ],
 "metadata": {
  "kernelspec": {
   "display_name": "Python 3",
   "language": "python",
   "name": "python3"
  },
  "language_info": {
   "codemirror_mode": {
    "name": "ipython",
    "version": 3
   },
   "file_extension": ".py",
   "mimetype": "text/x-python",
   "name": "python",
   "nbconvert_exporter": "python",
   "pygments_lexer": "ipython3",
   "version": "3.6.0"
  }
 },
 "nbformat": 4,
 "nbformat_minor": 2
}
