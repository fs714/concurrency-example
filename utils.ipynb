{
 "cells": [
  {
   "cell_type": "code",
   "execution_count": null,
   "metadata": {
    "collapsed": true
   },
   "outputs": [],
   "source": [
    "a = [1, 3, 2]\n",
    "\n",
    "max(enumerate(a), key=lambda x: x[1])"
   ]
  },
  {
   "cell_type": "code",
   "execution_count": null,
   "metadata": {
    "collapsed": true
   },
   "outputs": [],
   "source": [
    "import heapq\n",
    "\n",
    "nums = [1, 8, 2, 23, 7, -4, 18, 22, 42, 37, 2]\n",
    "\n",
    "print(heapq.nlargest(3, enumerate(nums), key=lambda x: x[1]))\n",
    "print(heapq.nsmallest(3, enumerate(nums), key=lambda x: x[1]))"
   ]
  },
  {
   "cell_type": "code",
   "execution_count": null,
   "metadata": {
    "collapsed": true
   },
   "outputs": [],
   "source": [
    "a = [0, 1, 2, 3, 4, 5, 6, 7, 8, 9]\n",
    "\n",
    "print(a[1:6][::2])"
   ]
  },
  {
   "cell_type": "code",
   "execution_count": null,
   "metadata": {
    "collapsed": true
   },
   "outputs": [],
   "source": [
    "import time\n",
    "import os\n",
    "import psutil\n",
    "\n",
    "process = psutil.Process(os.getpid())\n",
    "print(process.memory_info().rss)\n",
    "\n",
    "a = []\n",
    "for i in range(0, 500000):\n",
    "    a.append(i)\n",
    "\n",
    "print('---------------------------')\n",
    "for i in range(0, 10):\n",
    "    time.sleep(1)\n",
    "    print('{}: {}'.format(i, process.memory_info().rss))\n",
    "\n",
    "a = a[0:100]\n",
    "print('---------------------------')\n",
    "for i in range(0, 10):\n",
    "    time.sleep(1)\n",
    "    print('{}: {}'.format(i, process.memory_info().rss))"
   ]
  },
  {
   "cell_type": "code",
   "execution_count": null,
   "metadata": {},
   "outputs": [],
   "source": [
    "import IPython.core.debugger\n",
    "dbg = IPython.core.debugger.Pdb()\n",
    "\n",
    "def add_x_y(x, y):\n",
    "    dbg.set_trace()\n",
    "    z = x + y\n",
    "    return z\n",
    "\n",
    "add_x_y(2, 3)"
   ]
  }
 ],
 "metadata": {
  "kernelspec": {
   "display_name": "Python 3",
   "language": "python",
   "name": "python3"
  },
  "language_info": {
   "codemirror_mode": {
    "name": "ipython",
    "version": 3
   },
   "file_extension": ".py",
   "mimetype": "text/x-python",
   "name": "python",
   "nbconvert_exporter": "python",
   "pygments_lexer": "ipython3",
   "version": "3.6.0"
  }
 },
 "nbformat": 4,
 "nbformat_minor": 2
}
