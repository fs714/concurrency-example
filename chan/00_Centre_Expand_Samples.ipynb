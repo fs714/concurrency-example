{
 "cells": [
  {
   "cell_type": "code",
   "execution_count": null,
   "metadata": {
    "scrolled": false
   },
   "outputs": [],
   "source": [
    "%matplotlib inline\n",
    "\n",
    "import matplotlib.pyplot as plt\n",
    "from IPython.core.debugger import Pdb; pdb = Pdb()\n",
    "\n",
    "\n",
    "def plot_trend(y):\n",
    "    print(y[0])\n",
    "    \n",
    "    x = list(range(0, len(y[0])))\n",
    "    gg = [min(y[0][1], y[0][3])] * len(y[0])\n",
    "    dd = [max(y[0][2], y[0][4])] * len(y[0])\n",
    "\n",
    "    plt.figure(figsize=(len(y[0]),4))\n",
    "    plt.grid()\n",
    "    plt.plot(x, y[0])\n",
    "    plt.plot(x, gg, '--')\n",
    "    plt.plot(x, dd, '--')\n",
    "    \n",
    "    if len(y[1]) > 0:\n",
    "        xx = y[1]\n",
    "        yy = [y[0][i] for i in y[1]]\n",
    "        plt.plot(xx, yy)\n",
    "    \n",
    "    plt.show()\n",
    "\n",
    "\n",
    "ys = []\n",
    "\n",
    "ys.append(([0, 100, 60, 120, 70, 110, 25, 155, 35, 145, 45, 150], [0, 3, 6, 11]))\n",
    "ys.append(([0, 100, 60, 120, 70, 110, 25, 155, 35, 145, 45, 135], [0, 3, 6, 11]))\n",
    "ys.append(([0, 100, 60, 120, 70, 110, 40, 130, 55, 140, 65, 75], [0, 3, 6, 11]))\n",
    "ys.append(([0, 100, 60, 120, 70, 110, 40, 130, 80, 140, 65, 75], [0, 3, 6, 11]))\n",
    "ys.append(([0, 100, 60, 120, 70, 110, 25, 155, 35, 145, 45, 115, 55, 105], [0, 7, 10, 13]))\n",
    "\n",
    "ys.append(([0, 100, 60, 120, 70, 110, 35, 75, 25, 145, 65, 85], [0, 3, 8, 11]))\n",
    "ys.append(([0, 100, 50, 120, 60, 90, 30, 110, 80, 130, 45, 70, 35, 105], [0, 9, 12]))\n",
    "ys.append(([0, 100, 50, 130, 60, 90, 30, 110, 80, 120, 45, 70, 35, 105], [0, 9, 12]))\n",
    "\n",
    "\n",
    "ys.append(([0, 100, 60, 120, 70, 110, 25, 155, 55, 145, 45, 150], [0, 3, 6, 11]))\n",
    "ys.append(([0, 100, 60, 120, 70, 110, 40, 130, 80, 140, 65, 75], [0, 3, 6, 11]))\n",
    "ys.append(([0, 100, 60, 120, 70, 110, 40, 140, 80, 130, 65, 75], [0, 7, 10]))\n",
    "\n",
    "for y in ys:\n",
    "    plot_trend(y)\n",
    "    "
   ]
  }
 ],
 "metadata": {
  "kernelspec": {
   "display_name": "Python 3",
   "language": "python",
   "name": "python3"
  },
  "language_info": {
   "codemirror_mode": {
    "name": "ipython",
    "version": 3
   },
   "file_extension": ".py",
   "mimetype": "text/x-python",
   "name": "python",
   "nbconvert_exporter": "python",
   "pygments_lexer": "ipython3",
   "version": "3.6.0"
  }
 },
 "nbformat": 4,
 "nbformat_minor": 2
}
