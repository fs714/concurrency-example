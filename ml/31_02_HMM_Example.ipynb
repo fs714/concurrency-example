{
 "cells": [
  {
   "cell_type": "markdown",
   "metadata": {},
   "source": [
    "### Generate a pre-defined GaussianHMM model"
   ]
  },
  {
   "cell_type": "code",
   "execution_count": null,
   "metadata": {
    "collapsed": true
   },
   "outputs": [],
   "source": [
    "import random\n",
    "import numpy as np\n",
    "import matplotlib.pyplot as plt\n",
    "\n",
    "from hmmlearn import hmm\n",
    "\n",
    "\n",
    "startprob = np.array([0.6, 0.3, 0.1])\n",
    "transmat = np.array([[0.1, 0.6, 0.3],\n",
    "                     [0.3, 0.1, 0.6],\n",
    "                     [0.6, 0.3, 0.1]])\n",
    "means = np.array([[0.0, 0.0],\n",
    "                  [5.0, 0.0],\n",
    "                  [0.0, 5.0]])\n",
    "covars = [[[ 1.,  0.], [ 0.,  1.]],\n",
    "          [[ 1.,  0.], [ 0.,  1.]],\n",
    "          [[ 1.,  0.], [ 0.,  1.]],\n",
    "          [[ 1.,  0.], [ 0.,  1.]]]\n",
    "\n",
    "model = hmm.GaussianHMM(n_components=3, covariance_type=\"full\")\n",
    "model.startprob_ = startprob\n",
    "model.transmat_ = transmat\n",
    "model.means_ = means\n",
    "model.covars_ = covars\n"
   ]
  },
  {
   "cell_type": "code",
   "execution_count": null,
   "metadata": {
    "scrolled": true
   },
   "outputs": [],
   "source": [
    "X, Z = model.sample(100)"
   ]
  },
  {
   "cell_type": "code",
   "execution_count": null,
   "metadata": {},
   "outputs": [],
   "source": [
    "print(X[:10])\n",
    "print(Z[:10])"
   ]
  },
  {
   "cell_type": "code",
   "execution_count": null,
   "metadata": {
    "scrolled": true
   },
   "outputs": [],
   "source": [
    "print(model)\n",
    "print(model.n_components)\n",
    "print(model.transmat_)\n",
    "print(model.startprob_)\n",
    "print(model.means_)\n",
    "print(model.covars_)"
   ]
  },
  {
   "cell_type": "markdown",
   "metadata": {},
   "source": [
    "### Use generated samples to train a new GaussianHMM"
   ]
  },
  {
   "cell_type": "code",
   "execution_count": null,
   "metadata": {},
   "outputs": [],
   "source": [
    "model_t1 = hmm.GaussianHMM(n_components= 3, covariance_type=\"full\", n_iter=2000).fit(X)"
   ]
  },
  {
   "cell_type": "code",
   "execution_count": null,
   "metadata": {},
   "outputs": [],
   "source": [
    "print(model_t1)\n",
    "print(model_t1.n_components)\n",
    "print(model_t1.transmat_)\n",
    "print(model_t1.startprob_)\n",
    "print(model_t1.means_)\n",
    "print(model_t1.covars_)\n",
    "\n",
    "print(model_t1.monitor_)\n",
    "print(model_t1.monitor_.converged)\n",
    "\n",
    "print(model_t1.n_features)"
   ]
  },
  {
   "cell_type": "markdown",
   "metadata": {},
   "source": [
    "### GaussianHMM Evaluation"
   ]
  },
  {
   "cell_type": "code",
   "execution_count": null,
   "metadata": {},
   "outputs": [],
   "source": [
    "x = X\n",
    "print(np.exp(model_t1.score(x)))\n",
    "x = X[:5]\n",
    "print(x)\n",
    "print(np.exp(model_t1.score(x)))"
   ]
  },
  {
   "cell_type": "code",
   "execution_count": null,
   "metadata": {},
   "outputs": [],
   "source": [
    "x = [[0.0, 0.0], [5.0, 0.0], [0.0, 5.0], [0.0, 0.0], [5.0, 0.0]]\n",
    "print(x)\n",
    "print(np.exp(model_t1.score(x)))"
   ]
  },
  {
   "cell_type": "code",
   "execution_count": null,
   "metadata": {
    "scrolled": true
   },
   "outputs": [],
   "source": [
    "x = [[0.0, 0.0], [5.0, 0.0], [0.0, 5.0], [0.0, 0.0], [5.0, 0.0]]\n",
    "print(x)\n",
    "print(np.exp(model_t1.decode(x)[0]))\n",
    "print(model_t1.decode(x)[1][:10])"
   ]
  },
  {
   "cell_type": "code",
   "execution_count": null,
   "metadata": {},
   "outputs": [],
   "source": [
    "x = [[0.0, 0.0], [5.0, 0.0], [0.0, 5.0], [0.0, 0.0], [5.0, 0.0]]\n",
    "print(x)\n",
    "print(np.exp(model_t1.score_samples(x)[0]))\n",
    "print(model_t1.score_samples(x)[1])"
   ]
  },
  {
   "cell_type": "code",
   "execution_count": null,
   "metadata": {},
   "outputs": [],
   "source": [
    "x = [[0.0, 0.0], [5.0, 0.0], [0.0, 5.0], [0.0, 0.0], [5.0, 0.0]]\n",
    "print(x)\n",
    "print(model_t1.predict(x))"
   ]
  },
  {
   "cell_type": "code",
   "execution_count": null,
   "metadata": {},
   "outputs": [],
   "source": [
    "x = [[0.0, 0.0], [5.0, 0.0], [0.0, 5.0], [0.0, 0.0], [5.0, 0.0]]\n",
    "print(x)\n",
    "print(model_t1.predict_proba(x))"
   ]
  },
  {
   "cell_type": "code",
   "execution_count": null,
   "metadata": {},
   "outputs": [],
   "source": [
    "x = [[0.0, 0.0], [5.0, 0.0], [0.0, 5.0], [0.0, 0.0], [5.0, 0.0]]\n",
    "print(x)\n",
    "print(np.exp(model_t1.score_samples(x)[0]))\n",
    "print(model_t1.predict(x))\n",
    "print(model_t1.score_samples(x)[1])\n",
    "\n",
    "x = [[0.0, 0.0], [5.0, 0.0], [0.0, 5.0], [0.0, 0.0], [1.0, 0.0]]\n",
    "print(x)\n",
    "print(np.exp(model_t1.score_samples(x)[0]))\n",
    "print(model_t1.predict(x))\n",
    "print(model_t1.score_samples(x)[1])\n",
    "\n",
    "x = [[5.0, 0.0], [0.0, 5.0], [0.0, 0.0], [5.0, 0.0], [0.0, 5.0]]\n",
    "print(x)\n",
    "print(np.exp(model_t1.score_samples(x)[0]))\n",
    "print(model_t1.predict(x))\n",
    "print(model_t1.score_samples(x)[1])\n",
    "\n",
    "x = [[0.0, 0.0], [0.0, 0.0], [0.0, 0.0], [0.0, 0.0], [0.0, 0.0]]\n",
    "print(x)\n",
    "print(np.exp(model_t1.score_samples(x)[0]))\n",
    "print(model_t1.predict(x))\n",
    "print(model_t1.score_samples(x)[1])"
   ]
  },
  {
   "cell_type": "markdown",
   "metadata": {},
   "source": [
    "### GaussianHMM Predict Check"
   ]
  },
  {
   "cell_type": "code",
   "execution_count": null,
   "metadata": {},
   "outputs": [],
   "source": [
    "hidden_states_seq = model_t1.predict(X)\n",
    "hidden_states_score = model_t1.score_samples(X)\n",
    "hidden_states_proba = model_t1.predict_proba(X)"
   ]
  },
  {
   "cell_type": "code",
   "execution_count": null,
   "metadata": {},
   "outputs": [],
   "source": [
    "print(hidden_states_score[0])\n",
    "print(hidden_states_seq)\n",
    "print(hidden_states_score[1])\n",
    "print(hidden_states_proba)"
   ]
  },
  {
   "cell_type": "code",
   "execution_count": null,
   "metadata": {},
   "outputs": [],
   "source": [
    "for i in range(0, hidden_states_proba.shape[0]):\n",
    "    if not np.array_equal(hidden_states_proba[i], hidden_states_score[1][i]):\n",
    "        print(i)\n",
    "print('Check Finished!')"
   ]
  },
  {
   "cell_type": "code",
   "execution_count": null,
   "metadata": {},
   "outputs": [],
   "source": [
    "for i, s in enumerate(hidden_states_seq):\n",
    "    if hidden_states_proba[i,s] < 0.8:\n",
    "        print(hidden_states_seq[i])\n",
    "        print(hidden_states_proba[i])\n",
    "        print(hidden_states_proba[i,s])"
   ]
  },
  {
   "cell_type": "markdown",
   "metadata": {},
   "source": [
    "### Is the model local optimized?"
   ]
  },
  {
   "cell_type": "code",
   "execution_count": null,
   "metadata": {},
   "outputs": [],
   "source": [
    "iter_num = 10\n",
    "models = []\n",
    "scores = []\n",
    "means = []\n",
    "\n",
    "for i in range(0, 10):\n",
    "    model_t = hmm.GaussianHMM(n_components= 3,\n",
    "                              covariance_type=\"full\",\n",
    "                              n_iter=2000,\n",
    "                              random_state=random.randint(0, 100)).fit(X)\n",
    "    models.append(model_t)\n",
    "    scores.append(model_t.score(X))\n",
    "    means.append(model_t.means_)\n",
    "\n",
    "for i in range(0, 10):\n",
    "    print(models[i])\n",
    "    print('Score: {}'.format(scores[i]))\n",
    "    print('Means: {}'.format(means[i]))"
   ]
  },
  {
   "cell_type": "markdown",
   "metadata": {},
   "source": [
    "### Train GaussianHMM model with fixed parameters"
   ]
  },
  {
   "cell_type": "code",
   "execution_count": null,
   "metadata": {},
   "outputs": [],
   "source": [
    "model_t2 = hmm.GaussianHMM(n_components= 3,\n",
    "                           covariance_type=\"full\",\n",
    "                           n_iter=2000,\n",
    "                           init_params=\"tmc\",\n",
    "                           params=\"tmc\")\n",
    "model_t2.startprob_ = np.array([0.4, 0.3, 0.3])\n",
    "model_t2.fit(X)"
   ]
  },
  {
   "cell_type": "code",
   "execution_count": null,
   "metadata": {},
   "outputs": [],
   "source": [
    "print(model_t2)\n",
    "print(model_t2.n_components)\n",
    "print(model_t2.transmat_)\n",
    "print(model_t2.startprob_)\n",
    "print(model_t2.means_)\n",
    "print(model_t2.covars_)\n",
    "\n",
    "print(model_t2.monitor_)\n",
    "print(model_t2.monitor_.converged)\n",
    "\n",
    "print(model_t2.n_features)"
   ]
  },
  {
   "cell_type": "code",
   "execution_count": null,
   "metadata": {},
   "outputs": [],
   "source": [
    "x = X[:5]\n",
    "print(x)\n",
    "print(np.exp(model_t1.score(x)))\n",
    "print(np.exp(model_t2.score(x)))\n",
    "\n",
    "x = [[0.0, 0.0], [5.0, 0.0], [0.0, 5.0], [0.0, 0.0], [5.0, 0.0]]\n",
    "print(x)\n",
    "print(np.exp(model_t1.score(x)))\n",
    "print(np.exp(model_t2.score(x)))"
   ]
  },
  {
   "cell_type": "code",
   "execution_count": null,
   "metadata": {},
   "outputs": [],
   "source": [
    "x = [[0.0, 0.0], [5.0, 0.0], [0.0, 5.0], [0.0, 0.0], [5.0, 0.0]]\n",
    "print(x)\n",
    "print(np.exp(model_t2.score_samples(x)[0]))\n",
    "print(model_t2.predict(x))\n",
    "print(model_t2.score_samples(x)[1])\n",
    "\n",
    "x = [[0.0, 0.0], [5.0, 0.0], [0.0, 5.0], [0.0, 0.0], [1.0, 0.0]]\n",
    "print(x)\n",
    "print(np.exp(model_t2.score_samples(x)[0]))\n",
    "print(model_t2.predict(x))\n",
    "print(model_t2.score_samples(x)[1])\n",
    "\n",
    "x = [[5.0, 0.0], [0.0, 5.0], [0.0, 0.0], [5.0, 0.0], [0.0, 5.0]]\n",
    "print(x)\n",
    "print(np.exp(model_t2.score_samples(x)[0]))\n",
    "print(model_t2.predict(x))\n",
    "print(model_t2.score_samples(x)[1])\n",
    "\n",
    "x = [[0.0, 0.0], [0.0, 0.0], [0.0, 0.0], [0.0, 0.0], [0.0, 0.0]]\n",
    "print(x)\n",
    "print(np.exp(model_t2.score_samples(x)[0]))\n",
    "print(model_t2.predict(x))\n",
    "print(model_t2.score_samples(x)[1])"
   ]
  }
 ],
 "metadata": {
  "kernelspec": {
   "display_name": "Python 3",
   "language": "python",
   "name": "python3"
  },
  "language_info": {
   "codemirror_mode": {
    "name": "ipython",
    "version": 3
   },
   "file_extension": ".py",
   "mimetype": "text/x-python",
   "name": "python",
   "nbconvert_exporter": "python",
   "pygments_lexer": "ipython3",
   "version": "3.6.0"
  }
 },
 "nbformat": 4,
 "nbformat_minor": 2
}
