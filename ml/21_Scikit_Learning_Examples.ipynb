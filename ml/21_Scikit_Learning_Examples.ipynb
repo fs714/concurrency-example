{
 "cells": [
  {
   "cell_type": "code",
   "execution_count": null,
   "metadata": {
    "scrolled": false
   },
   "outputs": [],
   "source": [
    "import random\n",
    "import numpy as np\n",
    "\n",
    "from sklearn.model_selection import train_test_split\n",
    "from sklearn import svm\n",
    "\n",
    "\n",
    "data_num = 100\n",
    "\n",
    "x_all = []\n",
    "y_all = []\n",
    "\n",
    "for i in range(0, data_num):\n",
    "    x_all.append([random.randint(0, 10), random.uniform(0, 10), random.uniform(0, 10)])\n",
    "    y_all.append(random.choice([-1, 1]))\n",
    "\n",
    "x_train, x_test, y_train, y_test = train_test_split(x_all, y_all, random_state=1)\n",
    "\n",
    "clf = svm.SVC()\n",
    "clf.fit(x_train, y_train)\n",
    "\n",
    "prediction_train = clf.predict(x_train)\n",
    "prediction_test = clf.predict(x_test)\n",
    "print('[Train Set] prediction and real:')\n",
    "print(list(zip(prediction_train, y_train))[:6])\n",
    "print('[Test Set] prediction and real:')\n",
    "print(list(zip(prediction_test, y_test))[:6])\n",
    "\n",
    "score_train = clf.score(x_train, y_train)\n",
    "score_test = clf.score(x_test, y_test)\n",
    "print('[Train Set] Data Number: {}, Score {}'.format(len(y_train), score_train))\n",
    "print('[Test  Set] Data Number: {}, Score {}'.format(len(y_test), score_test))\n"
   ]
  },
  {
   "cell_type": "code",
   "execution_count": null,
   "metadata": {},
   "outputs": [],
   "source": [
    "# One-hot coding\n",
    "\n",
    "from sklearn.feature_extraction import DictVectorizer\n",
    "\n",
    "\n",
    "measurements = [\n",
    "    {'city': 'Dubai', 'temperature': 33.},\n",
    "    {'city': 'London', 'temperature': 12.},\n",
    "    {'city': 'San Fransisco', 'temperature': 18.}\n",
    "]\n",
    "\n",
    "vec = DictVectorizer()\n",
    "\n",
    "print(vec.fit_transform(measurements).toarray())\n",
    "print(vec.get_feature_names())\n"
   ]
  },
  {
   "cell_type": "code",
   "execution_count": null,
   "metadata": {},
   "outputs": [],
   "source": [
    "# Standardization, or mean removal and variance scaling\n",
    "\n",
    "from sklearn import preprocessing\n",
    "import numpy as np\n",
    "\n",
    "\n",
    "X = np.array([[ 1., -10.,  2.],\n",
    "              [ 2.,  0.,  0.],\n",
    "              [ 0.,  10., -1.]])\n",
    "\n",
    "X_scaled = preprocessing.scale(X)\n",
    "print(X_scaled)                                          \n",
    "print(X_scaled.mean(axis=0))\n",
    "print(X_scaled.std(axis=0))\n",
    "\n",
    "min_max_scaler = preprocessing.MinMaxScaler()\n",
    "X_train_minmax = min_max_scaler.fit_transform(X)\n",
    "print(min_max_scaler.scale_)\n",
    "print(min_max_scaler.min_)\n",
    "print(X_train_minmax)\n",
    "print(X_train_minmax.mean(axis=0))\n",
    "print(X_train_minmax.std(axis=0))\n",
    "\n",
    "max_abs_scaler = preprocessing.MaxAbsScaler()\n",
    "X_train_maxabs = max_abs_scaler.fit_transform(X)\n",
    "print(X_train_maxabs)\n",
    "print(X_train_maxabs.mean(axis=0))\n",
    "print(X_train_maxabs.std(axis=0))\n"
   ]
  },
  {
   "cell_type": "code",
   "execution_count": null,
   "metadata": {},
   "outputs": [],
   "source": [
    "# Normalization\n",
    "\n",
    "from sklearn import preprocessing\n",
    "import numpy as np\n",
    "\n",
    "\n",
    "X = np.array([[ 1., -10.,  2.],\n",
    "              [ 2.,  0.,  0.],\n",
    "              [ 0.,  10., -1.]])\n",
    "\n",
    "X_normalized = preprocessing.normalize(X)\n",
    "print(X_normalized)\n",
    "print(X_normalized.mean(axis=0))\n",
    "print(X_normalized.std(axis=0))"
   ]
  },
  {
   "cell_type": "code",
   "execution_count": 29,
   "metadata": {},
   "outputs": [
    {
     "name": "stdout",
     "output_type": "stream",
     "text": [
      "[[ 1.  0.  1.]\n",
      " [ 1.  0.  0.]\n",
      " [ 0.  1.  0.]]\n"
     ]
    }
   ],
   "source": [
    "# Binarization\n",
    "\n",
    "from sklearn import preprocessing\n",
    "import numpy as np\n",
    "\n",
    "\n",
    "X = np.array([[ 1., -10.,  2.],\n",
    "              [ 2.,  0.,  0.],\n",
    "              [ 0.,  10., -1.]])\n",
    "\n",
    "binarizer = preprocessing.Binarizer()\n",
    "# binarizer = preprocessing.Binarizer(threshold=1.1)\n",
    "\n",
    "X_binarizered = binarizer.transform(X)\n",
    "print(X_binarizered)\n"
   ]
  }
 ],
 "metadata": {
  "kernelspec": {
   "display_name": "Python 3",
   "language": "python",
   "name": "python3"
  },
  "language_info": {
   "codemirror_mode": {
    "name": "ipython",
    "version": 3
   },
   "file_extension": ".py",
   "mimetype": "text/x-python",
   "name": "python",
   "nbconvert_exporter": "python",
   "pygments_lexer": "ipython3",
   "version": "3.6.0"
  }
 },
 "nbformat": 4,
 "nbformat_minor": 2
}
